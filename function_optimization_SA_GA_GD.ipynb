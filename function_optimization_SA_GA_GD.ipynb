{
 "cells": [
  {
   "cell_type": "code",
   "execution_count": 1,
   "metadata": {},
   "outputs": [],
   "source": [
    "# install GA lib\n",
    "# !pip install geneticalgorithm"
   ]
  },
  {
   "cell_type": "code",
   "execution_count": 2,
   "metadata": {},
   "outputs": [],
   "source": [
    "import numpy as np\n",
    "from geneticalgorithm import geneticalgorithm as ga\n",
    "from scipy.optimize import dual_annealing\n",
    "from numpy import arange\n",
    "from matplotlib import pyplot\n",
    "\n",
    "%matplotlib inline"
   ]
  },
  {
   "cell_type": "markdown",
   "metadata": {},
   "source": [
    "## 1- Optimize a simple function"
   ]
  },
  {
   "cell_type": "code",
   "execution_count": 3,
   "metadata": {},
   "outputs": [],
   "source": [
    "def objective(x):\n",
    "    return x[0]**2.0"
   ]
  },
  {
   "cell_type": "code",
   "execution_count": 4,
   "metadata": {},
   "outputs": [],
   "source": [
    "# define range for input\n",
    "r_min, r_max = [-5.0, 5.0]"
   ]
  },
  {
   "cell_type": "code",
   "execution_count": 5,
   "metadata": {},
   "outputs": [
    {
     "data": {
      "text/plain": [
       "[<matplotlib.lines.Line2D at 0x10f038a20>]"
      ]
     },
     "execution_count": 5,
     "metadata": {},
     "output_type": "execute_result"
    },
    {
     "data": {
      "image/png": "[encoded data removed]",
      "text/plain": [
       "<Figure size 432x288 with 1 Axes>"
      ]
     },
     "metadata": {
      "needs_background": "light"
     },
     "output_type": "display_data"
    }
   ],
   "source": [
    "# plot function\n",
    "inputs = arange(r_min, r_max, 0.1)\n",
    "results = [objective([x]) for x in inputs]\n",
    "pyplot.plot(inputs, results)"
   ]
  },
  {
   "cell_type": "markdown",
   "metadata": {},
   "source": [
    "### 1-1 Simulated Annealing solution"
   ]
  },
  {
   "cell_type": "code",
   "execution_count": 6,
   "metadata": {},
   "outputs": [
    {
     "data": {
      "text/plain": [
       "array([1.26327748e-09])"
      ]
     },
     "execution_count": 6,
     "metadata": {},
     "output_type": "execute_result"
    }
   ],
   "source": [
    "\n",
    "maxiter = 200\n",
    "seed = 123456\n",
    "varbound=np.array([[-5,5]])\n",
    "ret = dual_annealing(objective, bounds=varbound, maxiter=maxiter, seed=seed)\n",
    "ret.x"
   ]
  },
  {
   "cell_type": "code",
   "execution_count": 7,
   "metadata": {},
   "outputs": [
    {
     "data": {
      "text/plain": [
       "200"
      ]
     },
     "execution_count": 7,
     "metadata": {},
     "output_type": "execute_result"
    }
   ],
   "source": [
    "ret.nit"
   ]
  },
  {
   "cell_type": "code",
   "execution_count": 8,
   "metadata": {},
   "outputs": [
    {
     "data": {
      "text/plain": [
       "array([1.26327748e-09])"
      ]
     },
     "execution_count": 8,
     "metadata": {},
     "output_type": "execute_result"
    }
   ],
   "source": [
    "ret.x"
   ]
  },
  {
   "cell_type": "markdown",
   "metadata": {},
   "source": [
    "### 1-2 Genetic Algorithm solution"
   ]
  },
  {
   "cell_type": "code",
   "execution_count": 9,
   "metadata": {},
   "outputs": [
    {
     "name": "stdout",
     "output_type": "stream",
     "text": [
      " The best solution found:\n",
      " [6.33573455e-07]\n",
      "\n",
      " Objective function:\n",
      " 4.014153228397954e-13\n"
     ]
    },
    {
     "data": {
      "image/png": "[encoded data removed]",
      "text/plain": [
       "<Figure size 432x288 with 1 Axes>"
      ]
     },
     "metadata": {
      "needs_background": "light"
     },
     "output_type": "display_data"
    }
   ],
   "source": [
    "model=ga(function=objective,dimension=1,variable_type='real',variable_boundaries=varbound)\n",
    "\n",
    "model.run()"
   ]
  },
  {
   "cell_type": "markdown",
   "metadata": {},
   "source": [
    "## 2- Optimize a neural network model"
   ]
  },
  {
   "cell_type": "code",
   "execution_count": 10,
   "metadata": {},
   "outputs": [
    {
     "name": "stderr",
     "output_type": "stream",
     "text": [
      "Using TensorFlow backend.\n"
     ]
    }
   ],
   "source": [
    "import tensorflow as tf\n",
    "from keras.datasets import boston_housing\n",
    "from keras.layers import Input, Dense\n",
    "from keras.engine import Model\n",
    "from sklearn.metrics import mean_absolute_error\n"
   ]
  },
  {
   "cell_type": "markdown",
   "metadata": {},
   "source": [
    "### 2-1 Boston prices data"
   ]
  },
  {
   "cell_type": "code",
   "execution_count": 11,
   "metadata": {},
   "outputs": [],
   "source": [
    "\n",
    "(train_data, train_targets), (test_data, test_targets) = boston_housing.load_data()"
   ]
  },
  {
   "cell_type": "code",
   "execution_count": 12,
   "metadata": {},
   "outputs": [
    {
     "data": {
      "text/plain": [
       "(404, 13)"
      ]
     },
     "execution_count": 12,
     "metadata": {},
     "output_type": "execute_result"
    }
   ],
   "source": [
    "train_data.shape"
   ]
  },
  {
   "cell_type": "code",
   "execution_count": 13,
   "metadata": {},
   "outputs": [],
   "source": [
    "mean = train_data.mean(axis=0)\n",
    "train_data -= mean\n",
    "std = train_data.std(axis=0)\n",
    "train_data /= std\n",
    "\n",
    "test_data -= mean\n",
    "test_data /= std"
   ]
  },
  {
   "cell_type": "markdown",
   "metadata": {},
   "source": [
    "### 2-2 NN model"
   ]
  },
  {
   "cell_type": "code",
   "execution_count": 14,
   "metadata": {},
   "outputs": [
    {
     "name": "stdout",
     "output_type": "stream",
     "text": [
      "Model: \"model\"\n",
      "_________________________________________________________________\n",
      "Layer (type)                 Output Shape              Param #   \n",
      "=================================================================\n",
      "inputs (InputLayer)          [(None, 13)]              0         \n",
      "_________________________________________________________________\n",
      "dense (Dense)                (None, 5)                 70        \n",
      "_________________________________________________________________\n",
      "dense_1 (Dense)              (None, 5)                 30        \n",
      "_________________________________________________________________\n",
      "dense_2 (Dense)              (None, 1)                 6         \n",
      "=================================================================\n",
      "Total params: 106\n",
      "Trainable params: 106\n",
      "Non-trainable params: 0\n",
      "_________________________________________________________________\n",
      "None\n"
     ]
    }
   ],
   "source": [
    "\n",
    "\n",
    "def buildmodel(nhis, activation, ninputs):\n",
    "    ins = Input(shape=(ninputs,), dtype='float32', name='inputs')\n",
    "    layers=[]\n",
    "    outs = ins\n",
    "    for h in nhis:\n",
    "        layer = Dense(h, activation=activation)\n",
    "        outs= layer(outs)\n",
    "    outs = Dense(1, activation='linear')(outs)\n",
    "    model = Model([ins], outs)\n",
    "    model.compile(optimizer='rmsprop', loss='mse', metrics=['mae'])\n",
    "    return model\n",
    "\n",
    "activation = 'relu'\n",
    "nhis=[5, 5]\n",
    "ninputs= train_data.shape[1]\n",
    "nn_model = buildmodel(nhis, activation, ninputs)\n",
    "print (nn_model.summary())"
   ]
  },
  {
   "cell_type": "markdown",
   "metadata": {},
   "source": [
    "### 2-3 Gradient descent solution "
   ]
  },
  {
   "cell_type": "code",
   "execution_count": 15,
   "metadata": {},
   "outputs": [
    {
     "name": "stdout",
     "output_type": "stream",
     "text": [
      "WARNING:tensorflow:AutoGraph could not transform <function Model.make_train_function.<locals>.train_function at 0x1a4d1c2f28> and will run it as-is.\n",
      "Please report this to the TensorFlow team. When filing the bug, set the verbosity to 10 (on Linux, `export AUTOGRAPH_VERBOSITY=10`) and attach the full output.\n",
      "Cause: Bad argument number for Name: 4, expecting 3\n",
      "To silence this warning, decorate the function with @tf.autograph.experimental.do_not_convert\n",
      "WARNING: AutoGraph could not transform <function Model.make_train_function.<locals>.train_function at 0x1a4d1c2f28> and will run it as-is.\n",
      "Please report this to the TensorFlow team. When filing the bug, set the verbosity to 10 (on Linux, `export AUTOGRAPH_VERBOSITY=10`) and attach the full output.\n",
      "Cause: Bad argument number for Name: 4, expecting 3\n",
      "To silence this warning, decorate the function with @tf.autograph.experimental.do_not_convert\n"
     ]
    },
    {
     "data": {
      "text/plain": [
       "<tensorflow.python.keras.callbacks.History at 0x1a4d1fdcc0>"
      ]
     },
     "execution_count": 15,
     "metadata": {},
     "output_type": "execute_result"
    }
   ],
   "source": [
    "nn_model.fit(train_data,train_targets,epochs=200,batch_size=10,verbose=0)\n"
   ]
  },
  {
   "cell_type": "code",
   "execution_count": 16,
   "metadata": {},
   "outputs": [
    {
     "name": "stdout",
     "output_type": "stream",
     "text": [
      "WARNING:tensorflow:AutoGraph could not transform <function Model.make_test_function.<locals>.test_function at 0x1a4d29d158> and will run it as-is.\n",
      "Please report this to the TensorFlow team. When filing the bug, set the verbosity to 10 (on Linux, `export AUTOGRAPH_VERBOSITY=10`) and attach the full output.\n",
      "Cause: Bad argument number for Name: 4, expecting 3\n",
      "To silence this warning, decorate the function with @tf.autograph.experimental.do_not_convert\n",
      "WARNING: AutoGraph could not transform <function Model.make_test_function.<locals>.test_function at 0x1a4d29d158> and will run it as-is.\n",
      "Please report this to the TensorFlow team. When filing the bug, set the verbosity to 10 (on Linux, `export AUTOGRAPH_VERBOSITY=10`) and attach the full output.\n",
      "Cause: Bad argument number for Name: 4, expecting 3\n",
      "To silence this warning, decorate the function with @tf.autograph.experimental.do_not_convert\n",
      "4/4 [==============================] - 0s 819us/step - loss: 20.3316 - mae: 3.0607\n"
     ]
    },
    {
     "data": {
      "text/plain": [
       "(20.331581115722656, 3.0607097148895264)"
      ]
     },
     "execution_count": 16,
     "metadata": {},
     "output_type": "execute_result"
    }
   ],
   "source": [
    "val_mse, val_mae = nn_model.evaluate(test_data, test_targets, verbose=1)\n",
    "val_mse, val_mae"
   ]
  },
  {
   "cell_type": "markdown",
   "metadata": {},
   "source": []
  },
  {
   "cell_type": "markdown",
   "metadata": {},
   "source": [
    "### 2-4 Simulated Annealing solution"
   ]
  },
  {
   "cell_type": "code",
   "execution_count": 17,
   "metadata": {},
   "outputs": [],
   "source": [
    "def unflatten(flat_w, old_w):\n",
    "    \"\"\" flat_w : 1D array of weights (flattened). old_w : output of model.get_weights(). \"\"\"\n",
    "    new_w = []\n",
    "    i = 0\n",
    "    for layer in old_w:\n",
    "        size = layer.size\n",
    "        new_w.append(flat_w[i:i+size].reshape(layer.shape))\n",
    "        i += size\n",
    "    return new_w"
   ]
  },
  {
   "cell_type": "code",
   "execution_count": 18,
   "metadata": {},
   "outputs": [],
   "source": [
    "import collections\n",
    "#https://shawnwanderson.github.io/Flattening-and-Unflattening-Keras-Weights/\n",
    "def flatten(weights):\n",
    "    w = []\n",
    "    for l in weights:\n",
    "        if isinstance(l, collections.Iterable):\n",
    "            w = w + flatten(l)\n",
    "        else:\n",
    "            w = w + [l]\n",
    "    return w"
   ]
  },
  {
   "cell_type": "code",
   "execution_count": 20,
   "metadata": {},
   "outputs": [],
   "source": [
    "# try flatten and unflatten\n",
    "w_vec  = flatten (nn_model.get_weights()) \n",
    "w_matrix = unflatten (np.array(w_vec), nn_model.get_weights())\n"
   ]
  },
  {
   "cell_type": "code",
   "execution_count": 21,
   "metadata": {},
   "outputs": [],
   "source": [
    "def fitness_function(weights_vector):\n",
    "    bce = tf.keras.losses.MeanAbsoluteError()\n",
    "    weights_matrix = unflatten(np.array(weights_vector), nn_model.get_weights())\n",
    "    nn_model.set_weights(weights_matrix)\n",
    "    y_pred = nn_model.predict(train_data)\n",
    "    loss = bce(train_targets, y_pred).numpy()\n",
    "    fitness= -loss\n",
    "    return loss"
   ]
  },
  {
   "cell_type": "code",
   "execution_count": 22,
   "metadata": {},
   "outputs": [
    {
     "name": "stdout",
     "output_type": "stream",
     "text": [
      "WARNING:tensorflow:AutoGraph could not transform <function Model.make_predict_function.<locals>.predict_function at 0x1a4d29da60> and will run it as-is.\n",
      "Please report this to the TensorFlow team. When filing the bug, set the verbosity to 10 (on Linux, `export AUTOGRAPH_VERBOSITY=10`) and attach the full output.\n",
      "Cause: Bad argument number for Name: 4, expecting 3\n",
      "To silence this warning, decorate the function with @tf.autograph.experimental.do_not_convert\n",
      "WARNING: AutoGraph could not transform <function Model.make_predict_function.<locals>.predict_function at 0x1a4d29da60> and will run it as-is.\n",
      "Please report this to the TensorFlow team. When filing the bug, set the verbosity to 10 (on Linux, `export AUTOGRAPH_VERBOSITY=10`) and attach the full output.\n",
      "Cause: Bad argument number for Name: 4, expecting 3\n",
      "To silence this warning, decorate the function with @tf.autograph.experimental.do_not_convert\n"
     ]
    }
   ],
   "source": [
    "maxiter = 5\n",
    "seed = 123456\n",
    "weights_vector = flatten(nn_model.get_weights())\n",
    "lw = [-1] * len(weights_vector)\n",
    "up = [1] * len(weights_vector)\n",
    "varbound=list(zip(lw, up))\n",
    "ret = dual_annealing(fitness_function, bounds=varbound, maxiter=maxiter, seed=seed)"
   ]
  },
  {
   "cell_type": "code",
   "execution_count": 23,
   "metadata": {},
   "outputs": [
    {
     "data": {
      "text/plain": [
       "7.927592266307157"
      ]
     },
     "execution_count": 23,
     "metadata": {},
     "output_type": "execute_result"
    }
   ],
   "source": [
    "best_solution = ret.x\n",
    "weights_matrix = unflatten(np.array(best_solution), nn_model.get_weights())\n",
    "nn_model.set_weights(weights_matrix)\n",
    "y_pred = nn_model.predict(test_data)\n",
    "mean_absolute_error(y_pred,test_targets )"
   ]
  },
  {
   "cell_type": "markdown",
   "metadata": {},
   "source": [
    "### 2-4 GA solution"
   ]
  },
  {
   "cell_type": "code",
   "execution_count": 24,
   "metadata": {},
   "outputs": [
    {
     "data": {
      "text/plain": [
       "106"
      ]
     },
     "execution_count": 24,
     "metadata": {},
     "output_type": "execute_result"
    }
   ],
   "source": [
    "len(np.array(varbound))"
   ]
  },
  {
   "cell_type": "code",
   "execution_count": 26,
   "metadata": {},
   "outputs": [
    {
     "name": "stdout",
     "output_type": "stream",
     "text": [
      " The best solution found:\n",
      " [ 0.52379049 -0.76343625 -0.56988238  0.65058927  0.47821331 -0.5787358\n",
      " -0.87863766 -0.99562887 -0.74628391 -0.15790296 -0.22661928  0.23443092\n",
      " -0.29888383  0.54302587 -0.69885446  0.15955439  0.05314652  0.40862682\n",
      " -0.31784202 -0.53900939 -0.54182038  0.33441062 -0.98369493  0.86352675\n",
      " -0.16736504  0.94225422 -0.12813693 -0.23244289 -0.88743043  0.22158788\n",
      " -0.49492103  0.79684252 -0.18178221  0.48215141  0.16734418 -0.56720788\n",
      " -0.55501154  0.41798421 -0.48548892  0.29948935 -0.20491343  0.02964634\n",
      " -0.85941304 -0.26666938 -0.7289512  -0.84327651  0.23382671 -0.31945622\n",
      "  0.61345753  0.05236957 -0.97266314  0.99020509 -0.03352253  0.45628353\n",
      " -0.46696203  0.21897176  0.45897456 -0.17197351 -0.44417118 -0.25960345\n",
      " -0.60009963 -0.84034303 -0.89039548  0.41311223  0.55255541  0.60119223\n",
      "  0.96718953  0.09170692 -0.09901971  0.21297914  0.44762089  0.98363755\n",
      "  0.61364642  0.65960236  0.90101451  0.309034    0.65930553 -0.35138636\n",
      "  0.33082797  0.81972433  0.92983415  0.91220508 -0.61010451  0.60291983\n",
      "  0.24215051  0.48749304  0.53377625  0.40812553  0.73566257  0.77611537\n",
      " -0.26655763  0.55540951  0.13800411  0.65530605  0.6101543   0.88281945\n",
      "  0.99305257 -0.57087717  0.17775457  0.90760663  0.84861899  0.83910562\n",
      " -0.1107062   0.93116989  0.80699327  0.97987761]\n",
      "\n",
      " Objective function:\n",
      " 8.07931900024414\n"
     ]
    },
    {
     "data": {
      "image/png": "[encoded data removed]",
      "text/plain": [
       "<Figure size 432x288 with 1 Axes>"
      ]
     },
     "metadata": {
      "needs_background": "light"
     },
     "output_type": "display_data"
    }
   ],
   "source": [
    "algorithm_param = {'max_num_iteration': 100,\\\n",
    "                   'population_size':100,\\\n",
    "                   'mutation_probability':0.1,\\\n",
    "                   'elit_ratio': 0.01,\\\n",
    "                   'crossover_probability': 0.5,\\\n",
    "                   'parents_portion': 0.3,\\\n",
    "                   'crossover_type':'uniform',\\\n",
    "                   'max_iteration_without_improv':None}\n",
    "\n",
    "ga_model=ga(function=fitness_function,dimension=len(weights_vector),variable_type='real',variable_boundaries=np.array(varbound), algorithm_parameters=algorithm_param)\n",
    "\n",
    "ga_model.run()"
   ]
  },
  {
   "cell_type": "code",
   "execution_count": null,
   "metadata": {},
   "outputs": [],
   "source": []
  }
 ],
 "metadata": {
  "kernelspec": {
   "display_name": "Python [conda env:nlp]",
   "language": "python",
   "name": "conda-env-nlp-py"
  },
  "language_info": {
   "codemirror_mode": {
    "name": "ipython",
    "version": 3
   },
   "file_extension": ".py",
   "mimetype": "text/x-python",
   "name": "python",
   "nbconvert_exporter": "python",
   "pygments_lexer": "ipython3",
   "version": "3.7.2"
  }
 },
 "nbformat": 4,
 "nbformat_minor": 2
}
